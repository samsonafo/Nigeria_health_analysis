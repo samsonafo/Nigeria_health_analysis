{
 "cells": [
  {
   "cell_type": "markdown",
   "metadata": {},
   "source": [
    "# A Story About the Nigerian Health System\n",
    "\n",
    "In this Data Analysis Project, I intend to make a story of the Nigerian Health System using the NMIS Dataset about it available from Nigeria. My **intention** is to:\n",
    "\n",
    "<br> **1.** To examine how the state of the Nigerian Health System.\n",
    "<br>\n",
    "<br> **2.** Compare the Health System current state to the expected Sustainable Development Goals(SDG).\n",
    "<br>\n",
    "<br> **3.** In case of the need for improvements, what and what exactly needs to be improved."
   ]
  },
  {
   "cell_type": "code",
   "execution_count": 2,
   "metadata": {},
   "outputs": [
    {
     "data": {
      "text/html": [
       "<div>\n",
       "<style scoped>\n",
       "    .dataframe tbody tr th:only-of-type {\n",
       "        vertical-align: middle;\n",
       "    }\n",
       "\n",
       "    .dataframe tbody tr th {\n",
       "        vertical-align: top;\n",
       "    }\n",
       "\n",
       "    .dataframe thead th {\n",
       "        text-align: right;\n",
       "    }\n",
       "</style>\n",
       "<table border=\"1\" class=\"dataframe\">\n",
       "  <thead>\n",
       "    <tr style=\"text-align: right;\">\n",
       "      <th></th>\n",
       "      <th>maternal_health_delivery_services</th>\n",
       "      <th>facility_type_display</th>\n",
       "      <th>management</th>\n",
       "      <th>emergency_transport</th>\n",
       "      <th>skilled_birth_attendant</th>\n",
       "      <th>phcn_electricity</th>\n",
       "      <th>c_section_yn</th>\n",
       "      <th>child_health_measles_immun_calc</th>\n",
       "      <th>improved_water_supply</th>\n",
       "      <th>improved_sanitation</th>\n",
       "      <th>vaccines_fridge_freezer</th>\n",
       "      <th>antenatal_care_yn</th>\n",
       "      <th>family_planning_yn</th>\n",
       "      <th>malaria_treatment_artemisinin</th>\n",
       "      <th>num_chews_fulltime</th>\n",
       "      <th>num_nurses_fulltime</th>\n",
       "      <th>num_nursemidwives_fulltime</th>\n",
       "      <th>num_doctors_fulltime</th>\n",
       "      <th>latitude</th>\n",
       "      <th>longitude</th>\n",
       "    </tr>\n",
       "  </thead>\n",
       "  <tbody>\n",
       "    <tr>\n",
       "      <th>0</th>\n",
       "      <td>True</td>\n",
       "      <td>Health Post</td>\n",
       "      <td>public</td>\n",
       "      <td>True</td>\n",
       "      <td>False</td>\n",
       "      <td>True</td>\n",
       "      <td>False</td>\n",
       "      <td>True</td>\n",
       "      <td>False</td>\n",
       "      <td>False</td>\n",
       "      <td>False</td>\n",
       "      <td>True</td>\n",
       "      <td>False</td>\n",
       "      <td>True</td>\n",
       "      <td>1.0</td>\n",
       "      <td>0.0</td>\n",
       "      <td>0.0</td>\n",
       "      <td>0.0</td>\n",
       "      <td>6.543408</td>\n",
       "      <td>9.084703</td>\n",
       "    </tr>\n",
       "    <tr>\n",
       "      <th>1</th>\n",
       "      <td>True</td>\n",
       "      <td>Primary Health Centre (PHC)</td>\n",
       "      <td>private</td>\n",
       "      <td>True</td>\n",
       "      <td>True</td>\n",
       "      <td>True</td>\n",
       "      <td>False</td>\n",
       "      <td>True</td>\n",
       "      <td>False</td>\n",
       "      <td>True</td>\n",
       "      <td>True</td>\n",
       "      <td>True</td>\n",
       "      <td>False</td>\n",
       "      <td>True</td>\n",
       "      <td>4.0</td>\n",
       "      <td>1.0</td>\n",
       "      <td>1.0</td>\n",
       "      <td>1.0</td>\n",
       "      <td>9.007209</td>\n",
       "      <td>7.677808</td>\n",
       "    </tr>\n",
       "    <tr>\n",
       "      <th>2</th>\n",
       "      <td>True</td>\n",
       "      <td>Basic Health Centre / Primary Health Clinic</td>\n",
       "      <td>public</td>\n",
       "      <td>True</td>\n",
       "      <td>True</td>\n",
       "      <td>True</td>\n",
       "      <td>True</td>\n",
       "      <td>True</td>\n",
       "      <td>True</td>\n",
       "      <td>True</td>\n",
       "      <td>True</td>\n",
       "      <td>True</td>\n",
       "      <td>True</td>\n",
       "      <td>True</td>\n",
       "      <td>2.0</td>\n",
       "      <td>4.0</td>\n",
       "      <td>11.0</td>\n",
       "      <td>2.0</td>\n",
       "      <td>5.129700</td>\n",
       "      <td>7.159200</td>\n",
       "    </tr>\n",
       "    <tr>\n",
       "      <th>3</th>\n",
       "      <td>True</td>\n",
       "      <td>Primary Health Centre (PHC)</td>\n",
       "      <td>public</td>\n",
       "      <td>False</td>\n",
       "      <td>False</td>\n",
       "      <td>False</td>\n",
       "      <td>False</td>\n",
       "      <td>True</td>\n",
       "      <td>True</td>\n",
       "      <td>False</td>\n",
       "      <td>False</td>\n",
       "      <td>True</td>\n",
       "      <td>True</td>\n",
       "      <td>True</td>\n",
       "      <td>2.0</td>\n",
       "      <td>0.0</td>\n",
       "      <td>0.0</td>\n",
       "      <td>0.0</td>\n",
       "      <td>5.463300</td>\n",
       "      <td>8.146400</td>\n",
       "    </tr>\n",
       "    <tr>\n",
       "      <th>4</th>\n",
       "      <td>True</td>\n",
       "      <td>Health Post</td>\n",
       "      <td>public</td>\n",
       "      <td>False</td>\n",
       "      <td>False</td>\n",
       "      <td>False</td>\n",
       "      <td>False</td>\n",
       "      <td>True</td>\n",
       "      <td>False</td>\n",
       "      <td>False</td>\n",
       "      <td>False</td>\n",
       "      <td>True</td>\n",
       "      <td>True</td>\n",
       "      <td>True</td>\n",
       "      <td>0.0</td>\n",
       "      <td>0.0</td>\n",
       "      <td>0.0</td>\n",
       "      <td>0.0</td>\n",
       "      <td>5.504000</td>\n",
       "      <td>8.025100</td>\n",
       "    </tr>\n",
       "    <tr>\n",
       "      <th>5</th>\n",
       "      <td>True</td>\n",
       "      <td>Health Post</td>\n",
       "      <td>private</td>\n",
       "      <td>True</td>\n",
       "      <td>True</td>\n",
       "      <td>False</td>\n",
       "      <td>True</td>\n",
       "      <td>False</td>\n",
       "      <td>True</td>\n",
       "      <td>True</td>\n",
       "      <td>False</td>\n",
       "      <td>True</td>\n",
       "      <td>True</td>\n",
       "      <td>True</td>\n",
       "      <td>0.0</td>\n",
       "      <td>2.0</td>\n",
       "      <td>0.0</td>\n",
       "      <td>1.0</td>\n",
       "      <td>5.076200</td>\n",
       "      <td>5.871500</td>\n",
       "    </tr>\n",
       "    <tr>\n",
       "      <th>6</th>\n",
       "      <td>False</td>\n",
       "      <td>Health Post</td>\n",
       "      <td>public</td>\n",
       "      <td>False</td>\n",
       "      <td>False</td>\n",
       "      <td>False</td>\n",
       "      <td>False</td>\n",
       "      <td>True</td>\n",
       "      <td>False</td>\n",
       "      <td>False</td>\n",
       "      <td>False</td>\n",
       "      <td>True</td>\n",
       "      <td>True</td>\n",
       "      <td>True</td>\n",
       "      <td>0.0</td>\n",
       "      <td>1.0</td>\n",
       "      <td>0.0</td>\n",
       "      <td>0.0</td>\n",
       "      <td>6.447500</td>\n",
       "      <td>9.049100</td>\n",
       "    </tr>\n",
       "    <tr>\n",
       "      <th>7</th>\n",
       "      <td>True</td>\n",
       "      <td>Specialist Hospital</td>\n",
       "      <td>private</td>\n",
       "      <td>True</td>\n",
       "      <td>True</td>\n",
       "      <td>True</td>\n",
       "      <td>True</td>\n",
       "      <td>True</td>\n",
       "      <td>True</td>\n",
       "      <td>True</td>\n",
       "      <td>True</td>\n",
       "      <td>True</td>\n",
       "      <td>True</td>\n",
       "      <td>True</td>\n",
       "      <td>1.0</td>\n",
       "      <td>6.0</td>\n",
       "      <td>12.0</td>\n",
       "      <td>5.0</td>\n",
       "      <td>5.546000</td>\n",
       "      <td>5.761100</td>\n",
       "    </tr>\n",
       "    <tr>\n",
       "      <th>8</th>\n",
       "      <td>True</td>\n",
       "      <td>Specialist Hospital</td>\n",
       "      <td>private</td>\n",
       "      <td>True</td>\n",
       "      <td>True</td>\n",
       "      <td>True</td>\n",
       "      <td>True</td>\n",
       "      <td>True</td>\n",
       "      <td>True</td>\n",
       "      <td>True</td>\n",
       "      <td>True</td>\n",
       "      <td>True</td>\n",
       "      <td>True</td>\n",
       "      <td>True</td>\n",
       "      <td>4.0</td>\n",
       "      <td>NaN</td>\n",
       "      <td>4.0</td>\n",
       "      <td>15.0</td>\n",
       "      <td>5.525800</td>\n",
       "      <td>5.765100</td>\n",
       "    </tr>\n",
       "    <tr>\n",
       "      <th>9</th>\n",
       "      <td>True</td>\n",
       "      <td>Health Post</td>\n",
       "      <td>private</td>\n",
       "      <td>False</td>\n",
       "      <td>False</td>\n",
       "      <td>False</td>\n",
       "      <td>False</td>\n",
       "      <td>False</td>\n",
       "      <td>True</td>\n",
       "      <td>True</td>\n",
       "      <td>False</td>\n",
       "      <td>False</td>\n",
       "      <td>False</td>\n",
       "      <td>True</td>\n",
       "      <td>1.0</td>\n",
       "      <td>0.0</td>\n",
       "      <td>0.0</td>\n",
       "      <td>0.0</td>\n",
       "      <td>10.285225</td>\n",
       "      <td>8.594392</td>\n",
       "    </tr>\n",
       "  </tbody>\n",
       "</table>\n",
       "</div>"
      ],
      "text/plain": [
       "  maternal_health_delivery_services  \\\n",
       "0                              True   \n",
       "1                              True   \n",
       "2                              True   \n",
       "3                              True   \n",
       "4                              True   \n",
       "5                              True   \n",
       "6                             False   \n",
       "7                              True   \n",
       "8                              True   \n",
       "9                              True   \n",
       "\n",
       "                         facility_type_display management  \\\n",
       "0                                  Health Post     public   \n",
       "1                  Primary Health Centre (PHC)    private   \n",
       "2  Basic Health Centre / Primary Health Clinic     public   \n",
       "3                  Primary Health Centre (PHC)     public   \n",
       "4                                  Health Post     public   \n",
       "5                                  Health Post    private   \n",
       "6                                  Health Post     public   \n",
       "7                          Specialist Hospital    private   \n",
       "8                          Specialist Hospital    private   \n",
       "9                                  Health Post    private   \n",
       "\n",
       "   emergency_transport skilled_birth_attendant phcn_electricity c_section_yn  \\\n",
       "0                 True                   False             True        False   \n",
       "1                 True                    True             True        False   \n",
       "2                 True                    True             True         True   \n",
       "3                False                   False            False        False   \n",
       "4                False                   False            False        False   \n",
       "5                 True                    True            False         True   \n",
       "6                False                   False            False        False   \n",
       "7                 True                    True             True         True   \n",
       "8                 True                    True             True         True   \n",
       "9                False                   False            False        False   \n",
       "\n",
       "  child_health_measles_immun_calc improved_water_supply improved_sanitation  \\\n",
       "0                            True                 False               False   \n",
       "1                            True                 False                True   \n",
       "2                            True                  True                True   \n",
       "3                            True                  True               False   \n",
       "4                            True                 False               False   \n",
       "5                           False                  True                True   \n",
       "6                            True                 False               False   \n",
       "7                            True                  True                True   \n",
       "8                            True                  True                True   \n",
       "9                           False                  True                True   \n",
       "\n",
       "  vaccines_fridge_freezer antenatal_care_yn family_planning_yn  \\\n",
       "0                   False              True              False   \n",
       "1                    True              True              False   \n",
       "2                    True              True               True   \n",
       "3                   False              True               True   \n",
       "4                   False              True               True   \n",
       "5                   False              True               True   \n",
       "6                   False              True               True   \n",
       "7                    True              True               True   \n",
       "8                    True              True               True   \n",
       "9                   False             False              False   \n",
       "\n",
       "  malaria_treatment_artemisinin  num_chews_fulltime  num_nurses_fulltime  \\\n",
       "0                          True                 1.0                  0.0   \n",
       "1                          True                 4.0                  1.0   \n",
       "2                          True                 2.0                  4.0   \n",
       "3                          True                 2.0                  0.0   \n",
       "4                          True                 0.0                  0.0   \n",
       "5                          True                 0.0                  2.0   \n",
       "6                          True                 0.0                  1.0   \n",
       "7                          True                 1.0                  6.0   \n",
       "8                          True                 4.0                  NaN   \n",
       "9                          True                 1.0                  0.0   \n",
       "\n",
       "   num_nursemidwives_fulltime  num_doctors_fulltime   latitude  longitude  \n",
       "0                         0.0                   0.0   6.543408   9.084703  \n",
       "1                         1.0                   1.0   9.007209   7.677808  \n",
       "2                        11.0                   2.0   5.129700   7.159200  \n",
       "3                         0.0                   0.0   5.463300   8.146400  \n",
       "4                         0.0                   0.0   5.504000   8.025100  \n",
       "5                         0.0                   1.0   5.076200   5.871500  \n",
       "6                         0.0                   0.0   6.447500   9.049100  \n",
       "7                        12.0                   5.0   5.546000   5.761100  \n",
       "8                         4.0                  15.0   5.525800   5.765100  \n",
       "9                         0.0                   0.0  10.285225   8.594392  "
      ]
     },
     "execution_count": 2,
     "metadata": {},
     "output_type": "execute_result"
    }
   ],
   "source": [
    "import pandas as pd\n",
    "import numpy as np\n",
    "import matplotlib.pyplot as plt\n",
    "%matplotlib inline\n",
    "import geopandas as gpd\n",
    "\n",
    "nig_nmis = pd.read_csv('NMIS_Health_Dataset.csv')\n",
    "nig_nmis.head(10)"
   ]
  },
  {
   "cell_type": "code",
   "execution_count": 3,
   "metadata": {},
   "outputs": [
    {
     "name": "stdout",
     "output_type": "stream",
     "text": [
      "We have a total number of 34139 Health Centers in Nigeria\n"
     ]
    },
    {
     "data": {
      "text/plain": [
       "Primary Health Centre    15962\n",
       "Health Post               7540\n",
       "Clinic                    4802\n",
       "District Hospital         2121\n",
       "Dispensary                1530\n",
       "Teaching Hospital          711\n",
       "Specialist Hospital        640\n",
       "Other                      355\n",
       "General Hospital           343\n",
       "Private Facility            20\n",
       "Name: facility_type_display, dtype: int64"
      ]
     },
     "execution_count": 3,
     "metadata": {},
     "output_type": "execute_result"
    }
   ],
   "source": [
    "#Sum of all Health Centers reported in Nigeria is 34139\n",
    "total = len(nig_nmis)\n",
    "print('We have a total number of {} Health Centers in Nigeria'.format(total))\n",
    "\n",
    "new_names = {'Primary Health Center':'Primary Health Centre (PHC)','Basic Health Centre or Primary Health Clinic':'Basic Health Centre / Primary Health Clinic',\n",
    "             'District Hospital / Comprehensive Health Centre':'District Hospital or Comprehensive Health Centre',\"Information not available / Don't know\":'Other'}\n",
    "nig_nmis = nig_nmis.replace(new_names)\n",
    "\n",
    "other_new_names = {'Basic Health Centre / Primary Health Clinic':'Primary Health Centre (PHC)','District / General Hospital':'District Hospital or Comprehensive Health Centre','Teaching / Specialist Hospital':'Teaching Hospital'}\n",
    "nig_nmis = nig_nmis.replace(other_new_names)\n",
    "more_new_names = {'District Hospital or Comprehensive Health Centre':'District Hospital','Primary Health Centre (PHC)':'Primary Health Centre','none':'Other'}\n",
    "nig_nmis = nig_nmis.replace(more_new_names)\n",
    "nig_nmis['facility_type_display'].value_counts()"
   ]
  },
  {
   "cell_type": "code",
   "execution_count": 53,
   "metadata": {},
   "outputs": [
    {
     "data": {
      "text/html": [
       "<div>\n",
       "<style scoped>\n",
       "    .dataframe tbody tr th:only-of-type {\n",
       "        vertical-align: middle;\n",
       "    }\n",
       "\n",
       "    .dataframe tbody tr th {\n",
       "        vertical-align: top;\n",
       "    }\n",
       "\n",
       "    .dataframe thead th {\n",
       "        text-align: right;\n",
       "    }\n",
       "</style>\n",
       "<table border=\"1\" class=\"dataframe\">\n",
       "  <thead>\n",
       "    <tr style=\"text-align: right;\">\n",
       "      <th></th>\n",
       "      <th>maternal_health_delivery_services</th>\n",
       "      <th>facility_type_display</th>\n",
       "      <th>management</th>\n",
       "      <th>emergency_transport</th>\n",
       "      <th>skilled_birth_attendant</th>\n",
       "      <th>phcn_electricity</th>\n",
       "      <th>c_section_yn</th>\n",
       "      <th>child_health_measles_immun_calc</th>\n",
       "      <th>improved_water_supply</th>\n",
       "      <th>improved_sanitation</th>\n",
       "      <th>vaccines_fridge_freezer</th>\n",
       "      <th>antenatal_care_yn</th>\n",
       "      <th>family_planning_yn</th>\n",
       "      <th>malaria_treatment_artemisinin</th>\n",
       "      <th>num_chews_fulltime</th>\n",
       "      <th>num_nurses_fulltime</th>\n",
       "      <th>num_nursemidwives_fulltime</th>\n",
       "      <th>num_doctors_fulltime</th>\n",
       "      <th>latitude</th>\n",
       "      <th>longitude</th>\n",
       "    </tr>\n",
       "  </thead>\n",
       "  <tbody>\n",
       "    <tr>\n",
       "      <th>0</th>\n",
       "      <td>True</td>\n",
       "      <td>Health Post</td>\n",
       "      <td>public</td>\n",
       "      <td>True</td>\n",
       "      <td>False</td>\n",
       "      <td>True</td>\n",
       "      <td>False</td>\n",
       "      <td>True</td>\n",
       "      <td>False</td>\n",
       "      <td>False</td>\n",
       "      <td>False</td>\n",
       "      <td>True</td>\n",
       "      <td>False</td>\n",
       "      <td>True</td>\n",
       "      <td>1.0</td>\n",
       "      <td>0.0</td>\n",
       "      <td>0.0</td>\n",
       "      <td>0.0</td>\n",
       "      <td>6.543408</td>\n",
       "      <td>9.084703</td>\n",
       "    </tr>\n",
       "    <tr>\n",
       "      <th>1</th>\n",
       "      <td>True</td>\n",
       "      <td>Primary Health Centre</td>\n",
       "      <td>private</td>\n",
       "      <td>True</td>\n",
       "      <td>True</td>\n",
       "      <td>True</td>\n",
       "      <td>False</td>\n",
       "      <td>True</td>\n",
       "      <td>False</td>\n",
       "      <td>True</td>\n",
       "      <td>True</td>\n",
       "      <td>True</td>\n",
       "      <td>False</td>\n",
       "      <td>True</td>\n",
       "      <td>4.0</td>\n",
       "      <td>1.0</td>\n",
       "      <td>1.0</td>\n",
       "      <td>1.0</td>\n",
       "      <td>9.007209</td>\n",
       "      <td>7.677808</td>\n",
       "    </tr>\n",
       "    <tr>\n",
       "      <th>2</th>\n",
       "      <td>True</td>\n",
       "      <td>Primary Health Centre</td>\n",
       "      <td>public</td>\n",
       "      <td>True</td>\n",
       "      <td>True</td>\n",
       "      <td>True</td>\n",
       "      <td>True</td>\n",
       "      <td>True</td>\n",
       "      <td>True</td>\n",
       "      <td>True</td>\n",
       "      <td>True</td>\n",
       "      <td>True</td>\n",
       "      <td>True</td>\n",
       "      <td>True</td>\n",
       "      <td>2.0</td>\n",
       "      <td>4.0</td>\n",
       "      <td>11.0</td>\n",
       "      <td>2.0</td>\n",
       "      <td>5.129700</td>\n",
       "      <td>7.159200</td>\n",
       "    </tr>\n",
       "    <tr>\n",
       "      <th>3</th>\n",
       "      <td>True</td>\n",
       "      <td>Primary Health Centre</td>\n",
       "      <td>public</td>\n",
       "      <td>False</td>\n",
       "      <td>False</td>\n",
       "      <td>False</td>\n",
       "      <td>False</td>\n",
       "      <td>True</td>\n",
       "      <td>True</td>\n",
       "      <td>False</td>\n",
       "      <td>False</td>\n",
       "      <td>True</td>\n",
       "      <td>True</td>\n",
       "      <td>True</td>\n",
       "      <td>2.0</td>\n",
       "      <td>0.0</td>\n",
       "      <td>0.0</td>\n",
       "      <td>0.0</td>\n",
       "      <td>5.463300</td>\n",
       "      <td>8.146400</td>\n",
       "    </tr>\n",
       "    <tr>\n",
       "      <th>4</th>\n",
       "      <td>True</td>\n",
       "      <td>Health Post</td>\n",
       "      <td>public</td>\n",
       "      <td>False</td>\n",
       "      <td>False</td>\n",
       "      <td>False</td>\n",
       "      <td>False</td>\n",
       "      <td>True</td>\n",
       "      <td>False</td>\n",
       "      <td>False</td>\n",
       "      <td>False</td>\n",
       "      <td>True</td>\n",
       "      <td>True</td>\n",
       "      <td>True</td>\n",
       "      <td>0.0</td>\n",
       "      <td>0.0</td>\n",
       "      <td>0.0</td>\n",
       "      <td>0.0</td>\n",
       "      <td>5.504000</td>\n",
       "      <td>8.025100</td>\n",
       "    </tr>\n",
       "    <tr>\n",
       "      <th>5</th>\n",
       "      <td>True</td>\n",
       "      <td>Health Post</td>\n",
       "      <td>private</td>\n",
       "      <td>True</td>\n",
       "      <td>True</td>\n",
       "      <td>False</td>\n",
       "      <td>True</td>\n",
       "      <td>False</td>\n",
       "      <td>True</td>\n",
       "      <td>True</td>\n",
       "      <td>False</td>\n",
       "      <td>True</td>\n",
       "      <td>True</td>\n",
       "      <td>True</td>\n",
       "      <td>0.0</td>\n",
       "      <td>2.0</td>\n",
       "      <td>0.0</td>\n",
       "      <td>1.0</td>\n",
       "      <td>5.076200</td>\n",
       "      <td>5.871500</td>\n",
       "    </tr>\n",
       "    <tr>\n",
       "      <th>6</th>\n",
       "      <td>False</td>\n",
       "      <td>Health Post</td>\n",
       "      <td>public</td>\n",
       "      <td>False</td>\n",
       "      <td>False</td>\n",
       "      <td>False</td>\n",
       "      <td>False</td>\n",
       "      <td>True</td>\n",
       "      <td>False</td>\n",
       "      <td>False</td>\n",
       "      <td>False</td>\n",
       "      <td>True</td>\n",
       "      <td>True</td>\n",
       "      <td>True</td>\n",
       "      <td>0.0</td>\n",
       "      <td>1.0</td>\n",
       "      <td>0.0</td>\n",
       "      <td>0.0</td>\n",
       "      <td>6.447500</td>\n",
       "      <td>9.049100</td>\n",
       "    </tr>\n",
       "    <tr>\n",
       "      <th>7</th>\n",
       "      <td>True</td>\n",
       "      <td>Specialist Hospital</td>\n",
       "      <td>private</td>\n",
       "      <td>True</td>\n",
       "      <td>True</td>\n",
       "      <td>True</td>\n",
       "      <td>True</td>\n",
       "      <td>True</td>\n",
       "      <td>True</td>\n",
       "      <td>True</td>\n",
       "      <td>True</td>\n",
       "      <td>True</td>\n",
       "      <td>True</td>\n",
       "      <td>True</td>\n",
       "      <td>1.0</td>\n",
       "      <td>6.0</td>\n",
       "      <td>12.0</td>\n",
       "      <td>5.0</td>\n",
       "      <td>5.546000</td>\n",
       "      <td>5.761100</td>\n",
       "    </tr>\n",
       "    <tr>\n",
       "      <th>8</th>\n",
       "      <td>True</td>\n",
       "      <td>Specialist Hospital</td>\n",
       "      <td>private</td>\n",
       "      <td>True</td>\n",
       "      <td>True</td>\n",
       "      <td>True</td>\n",
       "      <td>True</td>\n",
       "      <td>True</td>\n",
       "      <td>True</td>\n",
       "      <td>True</td>\n",
       "      <td>True</td>\n",
       "      <td>True</td>\n",
       "      <td>True</td>\n",
       "      <td>True</td>\n",
       "      <td>4.0</td>\n",
       "      <td>NaN</td>\n",
       "      <td>4.0</td>\n",
       "      <td>15.0</td>\n",
       "      <td>5.525800</td>\n",
       "      <td>5.765100</td>\n",
       "    </tr>\n",
       "    <tr>\n",
       "      <th>9</th>\n",
       "      <td>True</td>\n",
       "      <td>Health Post</td>\n",
       "      <td>private</td>\n",
       "      <td>False</td>\n",
       "      <td>False</td>\n",
       "      <td>False</td>\n",
       "      <td>False</td>\n",
       "      <td>False</td>\n",
       "      <td>True</td>\n",
       "      <td>True</td>\n",
       "      <td>False</td>\n",
       "      <td>False</td>\n",
       "      <td>False</td>\n",
       "      <td>True</td>\n",
       "      <td>1.0</td>\n",
       "      <td>0.0</td>\n",
       "      <td>0.0</td>\n",
       "      <td>0.0</td>\n",
       "      <td>10.285225</td>\n",
       "      <td>8.594392</td>\n",
       "    </tr>\n",
       "  </tbody>\n",
       "</table>\n",
       "</div>"
      ],
      "text/plain": [
       "  maternal_health_delivery_services  facility_type_display management  \\\n",
       "0                              True            Health Post     public   \n",
       "1                              True  Primary Health Centre    private   \n",
       "2                              True  Primary Health Centre     public   \n",
       "3                              True  Primary Health Centre     public   \n",
       "4                              True            Health Post     public   \n",
       "5                              True            Health Post    private   \n",
       "6                             False            Health Post     public   \n",
       "7                              True    Specialist Hospital    private   \n",
       "8                              True    Specialist Hospital    private   \n",
       "9                              True            Health Post    private   \n",
       "\n",
       "   emergency_transport skilled_birth_attendant phcn_electricity c_section_yn  \\\n",
       "0                 True                   False             True        False   \n",
       "1                 True                    True             True        False   \n",
       "2                 True                    True             True         True   \n",
       "3                False                   False            False        False   \n",
       "4                False                   False            False        False   \n",
       "5                 True                    True            False         True   \n",
       "6                False                   False            False        False   \n",
       "7                 True                    True             True         True   \n",
       "8                 True                    True             True         True   \n",
       "9                False                   False            False        False   \n",
       "\n",
       "  child_health_measles_immun_calc improved_water_supply improved_sanitation  \\\n",
       "0                            True                 False               False   \n",
       "1                            True                 False                True   \n",
       "2                            True                  True                True   \n",
       "3                            True                  True               False   \n",
       "4                            True                 False               False   \n",
       "5                           False                  True                True   \n",
       "6                            True                 False               False   \n",
       "7                            True                  True                True   \n",
       "8                            True                  True                True   \n",
       "9                           False                  True                True   \n",
       "\n",
       "  vaccines_fridge_freezer antenatal_care_yn family_planning_yn  \\\n",
       "0                   False              True              False   \n",
       "1                    True              True              False   \n",
       "2                    True              True               True   \n",
       "3                   False              True               True   \n",
       "4                   False              True               True   \n",
       "5                   False              True               True   \n",
       "6                   False              True               True   \n",
       "7                    True              True               True   \n",
       "8                    True              True               True   \n",
       "9                   False             False              False   \n",
       "\n",
       "  malaria_treatment_artemisinin  num_chews_fulltime  num_nurses_fulltime  \\\n",
       "0                          True                 1.0                  0.0   \n",
       "1                          True                 4.0                  1.0   \n",
       "2                          True                 2.0                  4.0   \n",
       "3                          True                 2.0                  0.0   \n",
       "4                          True                 0.0                  0.0   \n",
       "5                          True                 0.0                  2.0   \n",
       "6                          True                 0.0                  1.0   \n",
       "7                          True                 1.0                  6.0   \n",
       "8                          True                 4.0                  NaN   \n",
       "9                          True                 1.0                  0.0   \n",
       "\n",
       "   num_nursemidwives_fulltime  num_doctors_fulltime   latitude  longitude  \n",
       "0                         0.0                   0.0   6.543408   9.084703  \n",
       "1                         1.0                   1.0   9.007209   7.677808  \n",
       "2                        11.0                   2.0   5.129700   7.159200  \n",
       "3                         0.0                   0.0   5.463300   8.146400  \n",
       "4                         0.0                   0.0   5.504000   8.025100  \n",
       "5                         0.0                   1.0   5.076200   5.871500  \n",
       "6                         0.0                   0.0   6.447500   9.049100  \n",
       "7                        12.0                   5.0   5.546000   5.761100  \n",
       "8                         4.0                  15.0   5.525800   5.765100  \n",
       "9                         0.0                   0.0  10.285225   8.594392  "
      ]
     },
     "execution_count": 53,
     "metadata": {},
     "output_type": "execute_result"
    }
   ],
   "source": [
    "nig_nmis.head(10)"
   ]
  },
  {
   "cell_type": "code",
   "execution_count": 4,
   "metadata": {},
   "outputs": [
    {
     "data": {
      "text/plain": [
       "[<shapely.geometry.point.Point at 0x11aa89b70>,\n",
       " <shapely.geometry.point.Point at 0x11aa89ba8>,\n",
       " <shapely.geometry.point.Point at 0x11aa89860>]"
      ]
     },
     "execution_count": 4,
     "metadata": {},
     "output_type": "execute_result"
    }
   ],
   "source": [
    "from shapely.geometry import Point, Polygon\n",
    "\n",
    "geometry = [Point(xy) for xy in zip(nig_nmis['longitude'],nig_nmis['latitude'])]\n",
    "geometry[:3]"
   ]
  },
  {
   "cell_type": "code",
   "execution_count": 5,
   "metadata": {},
   "outputs": [],
   "source": [
    "nig_crs = {'init':'epsg:4326'}\n",
    "geo_nig = gpd.GeoDataFrame(nig_nmis,crs=nig_crs,geometry=geometry)"
   ]
  },
  {
   "cell_type": "code",
   "execution_count": 6,
   "metadata": {},
   "outputs": [
    {
     "data": {
      "text/plain": [
       "<matplotlib.legend.Legend at 0x11bf84be0>"
      ]
     },
     "execution_count": 6,
     "metadata": {},
     "output_type": "execute_result"
    },
    {
     "data": {
      "image/png": "[encoded data removed]",
      "text/plain": [
       "<Figure size 720x720 with 1 Axes>"
      ]
     },
     "metadata": {
      "needs_background": "light"
     },
     "output_type": "display_data"
    }
   ],
   "source": [
    "fig, ax = plt.subplots(figsize = (10,10))\n",
    "geo_nig.plot(ax=ax, color = 'gray')\n",
    "\n",
    "geo_nig[geo_nig['facility_type_display'] == 'Specialist Hospital'].plot(ax=ax,color='blue',label='Specialist')\n",
    "geo_nig[geo_nig['facility_type_display'] == 'General Hospital'].plot(ax=ax,color='red',label='General')\n",
    "geo_nig[geo_nig['facility_type_display'] == 'Teaching Hospital'].plot(ax=ax,color='black',label='Teaching')\n",
    "plt.title('Health centers Distribution in Nigeria showing Specifically the Specialist and General Hospitals')\n",
    "plt.legend()"
   ]
  },
  {
   "cell_type": "code",
   "execution_count": 7,
   "metadata": {},
   "outputs": [
    {
     "data": {
      "text/plain": [
       "<matplotlib.legend.Legend at 0x11bf5f400>"
      ]
     },
     "execution_count": 7,
     "metadata": {},
     "output_type": "execute_result"
    },
    {
     "data": {
      "image/png": "[encoded data removed]",
      "text/plain": [
       "<Figure size 720x720 with 1 Axes>"
      ]
     },
     "metadata": {
      "needs_background": "light"
     },
     "output_type": "display_data"
    }
   ],
   "source": [
    "fig, ax = plt.subplots(figsize = (10,10))\n",
    "geo_nig.plot(ax=ax, color = 'gray')\n",
    "\n",
    "geo_nig[geo_nig['facility_type_display'] == 'Primary Health Centre'].plot(ax=ax,color='green',label='Health Post')\n",
    "plt.title('Health centers Distribution in Nigeria showing Specifically only Health Posts')\n",
    "plt.legend()"
   ]
  },
  {
   "cell_type": "code",
   "execution_count": 8,
   "metadata": {},
   "outputs": [
    {
     "data": {
      "text/plain": [
       "<matplotlib.axes._subplots.AxesSubplot at 0x11b744860>"
      ]
     },
     "execution_count": 8,
     "metadata": {},
     "output_type": "execute_result"
    },
    {
     "data": {
      "image/png": "[encoded data removed]",
      "text/plain": [
       "<Figure size 720x720 with 1 Axes>"
      ]
     },
     "metadata": {},
     "output_type": "display_data"
    }
   ],
   "source": [
    "nig_nmis['facility_type_display'].value_counts().plot(kind='pie',figsize=(10,10))"
   ]
  },
  {
   "cell_type": "code",
   "execution_count": 9,
   "metadata": {},
   "outputs": [
    {
     "data": {
      "text/html": [
       "<div>\n",
       "<style scoped>\n",
       "    .dataframe tbody tr th:only-of-type {\n",
       "        vertical-align: middle;\n",
       "    }\n",
       "\n",
       "    .dataframe tbody tr th {\n",
       "        vertical-align: top;\n",
       "    }\n",
       "\n",
       "    .dataframe thead th {\n",
       "        text-align: right;\n",
       "    }\n",
       "</style>\n",
       "<table border=\"1\" class=\"dataframe\">\n",
       "  <thead>\n",
       "    <tr style=\"text-align: right;\">\n",
       "      <th></th>\n",
       "      <th>maternal_health_delivery_services</th>\n",
       "      <th>facility_type_display</th>\n",
       "      <th>management</th>\n",
       "      <th>emergency_transport</th>\n",
       "      <th>skilled_birth_attendant</th>\n",
       "      <th>phcn_electricity</th>\n",
       "      <th>c_section_yn</th>\n",
       "      <th>child_health_measles_immun_calc</th>\n",
       "      <th>improved_water_supply</th>\n",
       "      <th>improved_sanitation</th>\n",
       "      <th>...</th>\n",
       "      <th>family_planning_yn</th>\n",
       "      <th>malaria_treatment_artemisinin</th>\n",
       "      <th>num_chews_fulltime</th>\n",
       "      <th>num_nurses_fulltime</th>\n",
       "      <th>num_nursemidwives_fulltime</th>\n",
       "      <th>num_doctors_fulltime</th>\n",
       "      <th>latitude</th>\n",
       "      <th>longitude</th>\n",
       "      <th>geometry</th>\n",
       "      <th>Category</th>\n",
       "    </tr>\n",
       "  </thead>\n",
       "  <tbody>\n",
       "    <tr>\n",
       "      <th>0</th>\n",
       "      <td>True</td>\n",
       "      <td>Health Post</td>\n",
       "      <td>public</td>\n",
       "      <td>True</td>\n",
       "      <td>False</td>\n",
       "      <td>True</td>\n",
       "      <td>False</td>\n",
       "      <td>True</td>\n",
       "      <td>False</td>\n",
       "      <td>False</td>\n",
       "      <td>...</td>\n",
       "      <td>False</td>\n",
       "      <td>True</td>\n",
       "      <td>1.0</td>\n",
       "      <td>0.0</td>\n",
       "      <td>0.0</td>\n",
       "      <td>0.0</td>\n",
       "      <td>6.543408</td>\n",
       "      <td>9.084703</td>\n",
       "      <td>POINT (9.08470312 6.54340807)</td>\n",
       "      <td>Minor</td>\n",
       "    </tr>\n",
       "    <tr>\n",
       "      <th>1</th>\n",
       "      <td>True</td>\n",
       "      <td>Primary Health Centre</td>\n",
       "      <td>private</td>\n",
       "      <td>True</td>\n",
       "      <td>True</td>\n",
       "      <td>True</td>\n",
       "      <td>False</td>\n",
       "      <td>True</td>\n",
       "      <td>False</td>\n",
       "      <td>True</td>\n",
       "      <td>...</td>\n",
       "      <td>False</td>\n",
       "      <td>True</td>\n",
       "      <td>4.0</td>\n",
       "      <td>1.0</td>\n",
       "      <td>1.0</td>\n",
       "      <td>1.0</td>\n",
       "      <td>9.007209</td>\n",
       "      <td>7.677808</td>\n",
       "      <td>POINT (7.67780798 9.007208609999999)</td>\n",
       "      <td>Minor</td>\n",
       "    </tr>\n",
       "    <tr>\n",
       "      <th>2</th>\n",
       "      <td>True</td>\n",
       "      <td>Primary Health Centre</td>\n",
       "      <td>public</td>\n",
       "      <td>True</td>\n",
       "      <td>True</td>\n",
       "      <td>True</td>\n",
       "      <td>True</td>\n",
       "      <td>True</td>\n",
       "      <td>True</td>\n",
       "      <td>True</td>\n",
       "      <td>...</td>\n",
       "      <td>True</td>\n",
       "      <td>True</td>\n",
       "      <td>2.0</td>\n",
       "      <td>4.0</td>\n",
       "      <td>11.0</td>\n",
       "      <td>2.0</td>\n",
       "      <td>5.129700</td>\n",
       "      <td>7.159200</td>\n",
       "      <td>POINT (7.1592 5.1297)</td>\n",
       "      <td>Minor</td>\n",
       "    </tr>\n",
       "    <tr>\n",
       "      <th>3</th>\n",
       "      <td>True</td>\n",
       "      <td>Primary Health Centre</td>\n",
       "      <td>public</td>\n",
       "      <td>False</td>\n",
       "      <td>False</td>\n",
       "      <td>False</td>\n",
       "      <td>False</td>\n",
       "      <td>True</td>\n",
       "      <td>True</td>\n",
       "      <td>False</td>\n",
       "      <td>...</td>\n",
       "      <td>True</td>\n",
       "      <td>True</td>\n",
       "      <td>2.0</td>\n",
       "      <td>0.0</td>\n",
       "      <td>0.0</td>\n",
       "      <td>0.0</td>\n",
       "      <td>5.463300</td>\n",
       "      <td>8.146400</td>\n",
       "      <td>POINT (8.1464 5.4633)</td>\n",
       "      <td>Minor</td>\n",
       "    </tr>\n",
       "    <tr>\n",
       "      <th>4</th>\n",
       "      <td>True</td>\n",
       "      <td>Health Post</td>\n",
       "      <td>public</td>\n",
       "      <td>False</td>\n",
       "      <td>False</td>\n",
       "      <td>False</td>\n",
       "      <td>False</td>\n",
       "      <td>True</td>\n",
       "      <td>False</td>\n",
       "      <td>False</td>\n",
       "      <td>...</td>\n",
       "      <td>True</td>\n",
       "      <td>True</td>\n",
       "      <td>0.0</td>\n",
       "      <td>0.0</td>\n",
       "      <td>0.0</td>\n",
       "      <td>0.0</td>\n",
       "      <td>5.504000</td>\n",
       "      <td>8.025100</td>\n",
       "      <td>POINT (8.0251 5.504)</td>\n",
       "      <td>Minor</td>\n",
       "    </tr>\n",
       "    <tr>\n",
       "      <th>5</th>\n",
       "      <td>True</td>\n",
       "      <td>Health Post</td>\n",
       "      <td>private</td>\n",
       "      <td>True</td>\n",
       "      <td>True</td>\n",
       "      <td>False</td>\n",
       "      <td>True</td>\n",
       "      <td>False</td>\n",
       "      <td>True</td>\n",
       "      <td>True</td>\n",
       "      <td>...</td>\n",
       "      <td>True</td>\n",
       "      <td>True</td>\n",
       "      <td>0.0</td>\n",
       "      <td>2.0</td>\n",
       "      <td>0.0</td>\n",
       "      <td>1.0</td>\n",
       "      <td>5.076200</td>\n",
       "      <td>5.871500</td>\n",
       "      <td>POINT (5.8715 5.0762)</td>\n",
       "      <td>Minor</td>\n",
       "    </tr>\n",
       "    <tr>\n",
       "      <th>6</th>\n",
       "      <td>False</td>\n",
       "      <td>Health Post</td>\n",
       "      <td>public</td>\n",
       "      <td>False</td>\n",
       "      <td>False</td>\n",
       "      <td>False</td>\n",
       "      <td>False</td>\n",
       "      <td>True</td>\n",
       "      <td>False</td>\n",
       "      <td>False</td>\n",
       "      <td>...</td>\n",
       "      <td>True</td>\n",
       "      <td>True</td>\n",
       "      <td>0.0</td>\n",
       "      <td>1.0</td>\n",
       "      <td>0.0</td>\n",
       "      <td>0.0</td>\n",
       "      <td>6.447500</td>\n",
       "      <td>9.049100</td>\n",
       "      <td>POINT (9.049099999999999 6.4475)</td>\n",
       "      <td>Minor</td>\n",
       "    </tr>\n",
       "    <tr>\n",
       "      <th>7</th>\n",
       "      <td>True</td>\n",
       "      <td>Specialist Hospital</td>\n",
       "      <td>private</td>\n",
       "      <td>True</td>\n",
       "      <td>True</td>\n",
       "      <td>True</td>\n",
       "      <td>True</td>\n",
       "      <td>True</td>\n",
       "      <td>True</td>\n",
       "      <td>True</td>\n",
       "      <td>...</td>\n",
       "      <td>True</td>\n",
       "      <td>True</td>\n",
       "      <td>1.0</td>\n",
       "      <td>6.0</td>\n",
       "      <td>12.0</td>\n",
       "      <td>5.0</td>\n",
       "      <td>5.546000</td>\n",
       "      <td>5.761100</td>\n",
       "      <td>POINT (5.7611 5.546)</td>\n",
       "      <td>Major</td>\n",
       "    </tr>\n",
       "    <tr>\n",
       "      <th>8</th>\n",
       "      <td>True</td>\n",
       "      <td>Specialist Hospital</td>\n",
       "      <td>private</td>\n",
       "      <td>True</td>\n",
       "      <td>True</td>\n",
       "      <td>True</td>\n",
       "      <td>True</td>\n",
       "      <td>True</td>\n",
       "      <td>True</td>\n",
       "      <td>True</td>\n",
       "      <td>...</td>\n",
       "      <td>True</td>\n",
       "      <td>True</td>\n",
       "      <td>4.0</td>\n",
       "      <td>NaN</td>\n",
       "      <td>4.0</td>\n",
       "      <td>15.0</td>\n",
       "      <td>5.525800</td>\n",
       "      <td>5.765100</td>\n",
       "      <td>POINT (5.7651 5.5258)</td>\n",
       "      <td>Major</td>\n",
       "    </tr>\n",
       "    <tr>\n",
       "      <th>9</th>\n",
       "      <td>True</td>\n",
       "      <td>Health Post</td>\n",
       "      <td>private</td>\n",
       "      <td>False</td>\n",
       "      <td>False</td>\n",
       "      <td>False</td>\n",
       "      <td>False</td>\n",
       "      <td>False</td>\n",
       "      <td>True</td>\n",
       "      <td>True</td>\n",
       "      <td>...</td>\n",
       "      <td>False</td>\n",
       "      <td>True</td>\n",
       "      <td>1.0</td>\n",
       "      <td>0.0</td>\n",
       "      <td>0.0</td>\n",
       "      <td>0.0</td>\n",
       "      <td>10.285225</td>\n",
       "      <td>8.594392</td>\n",
       "      <td>POINT (8.594391870000001 10.28522539)</td>\n",
       "      <td>Minor</td>\n",
       "    </tr>\n",
       "  </tbody>\n",
       "</table>\n",
       "<p>10 rows × 22 columns</p>\n",
       "</div>"
      ],
      "text/plain": [
       "  maternal_health_delivery_services  facility_type_display management  \\\n",
       "0                              True            Health Post     public   \n",
       "1                              True  Primary Health Centre    private   \n",
       "2                              True  Primary Health Centre     public   \n",
       "3                              True  Primary Health Centre     public   \n",
       "4                              True            Health Post     public   \n",
       "5                              True            Health Post    private   \n",
       "6                             False            Health Post     public   \n",
       "7                              True    Specialist Hospital    private   \n",
       "8                              True    Specialist Hospital    private   \n",
       "9                              True            Health Post    private   \n",
       "\n",
       "   emergency_transport skilled_birth_attendant phcn_electricity c_section_yn  \\\n",
       "0                 True                   False             True        False   \n",
       "1                 True                    True             True        False   \n",
       "2                 True                    True             True         True   \n",
       "3                False                   False            False        False   \n",
       "4                False                   False            False        False   \n",
       "5                 True                    True            False         True   \n",
       "6                False                   False            False        False   \n",
       "7                 True                    True             True         True   \n",
       "8                 True                    True             True         True   \n",
       "9                False                   False            False        False   \n",
       "\n",
       "  child_health_measles_immun_calc improved_water_supply improved_sanitation  \\\n",
       "0                            True                 False               False   \n",
       "1                            True                 False                True   \n",
       "2                            True                  True                True   \n",
       "3                            True                  True               False   \n",
       "4                            True                 False               False   \n",
       "5                           False                  True                True   \n",
       "6                            True                 False               False   \n",
       "7                            True                  True                True   \n",
       "8                            True                  True                True   \n",
       "9                           False                  True                True   \n",
       "\n",
       "   ... family_planning_yn malaria_treatment_artemisinin num_chews_fulltime  \\\n",
       "0  ...              False                          True                1.0   \n",
       "1  ...              False                          True                4.0   \n",
       "2  ...               True                          True                2.0   \n",
       "3  ...               True                          True                2.0   \n",
       "4  ...               True                          True                0.0   \n",
       "5  ...               True                          True                0.0   \n",
       "6  ...               True                          True                0.0   \n",
       "7  ...               True                          True                1.0   \n",
       "8  ...               True                          True                4.0   \n",
       "9  ...              False                          True                1.0   \n",
       "\n",
       "  num_nurses_fulltime  num_nursemidwives_fulltime  num_doctors_fulltime  \\\n",
       "0                 0.0                         0.0                   0.0   \n",
       "1                 1.0                         1.0                   1.0   \n",
       "2                 4.0                        11.0                   2.0   \n",
       "3                 0.0                         0.0                   0.0   \n",
       "4                 0.0                         0.0                   0.0   \n",
       "5                 2.0                         0.0                   1.0   \n",
       "6                 1.0                         0.0                   0.0   \n",
       "7                 6.0                        12.0                   5.0   \n",
       "8                 NaN                         4.0                  15.0   \n",
       "9                 0.0                         0.0                   0.0   \n",
       "\n",
       "    latitude  longitude                               geometry  Category  \n",
       "0   6.543408   9.084703          POINT (9.08470312 6.54340807)     Minor  \n",
       "1   9.007209   7.677808   POINT (7.67780798 9.007208609999999)     Minor  \n",
       "2   5.129700   7.159200                  POINT (7.1592 5.1297)     Minor  \n",
       "3   5.463300   8.146400                  POINT (8.1464 5.4633)     Minor  \n",
       "4   5.504000   8.025100                   POINT (8.0251 5.504)     Minor  \n",
       "5   5.076200   5.871500                  POINT (5.8715 5.0762)     Minor  \n",
       "6   6.447500   9.049100       POINT (9.049099999999999 6.4475)     Minor  \n",
       "7   5.546000   5.761100                   POINT (5.7611 5.546)     Major  \n",
       "8   5.525800   5.765100                  POINT (5.7651 5.5258)     Major  \n",
       "9  10.285225   8.594392  POINT (8.594391870000001 10.28522539)     Minor  \n",
       "\n",
       "[10 rows x 22 columns]"
      ]
     },
     "execution_count": 9,
     "metadata": {},
     "output_type": "execute_result"
    }
   ],
   "source": [
    "#Lets Divide the Health Centres to Major and Minor\n",
    "\n",
    "def divider(row):\n",
    "    if row['facility_type_display'] == 'Teaching Hospital':\n",
    "        return 'Major'\n",
    "    if row['facility_type_display'] == 'Specialist Hospital':\n",
    "        return 'Major'\n",
    "    if row['facility_type_display'] == 'General Hospital':\n",
    "        return 'Major'\n",
    "    if row['facility_type_display'] == 'District Hospital':\n",
    "        return 'Major'\n",
    "    else:\n",
    "        return 'Minor'\n",
    "    \n",
    "    \n",
    "nig_nmis['Category'] = nig_nmis.apply(lambda row: divider(row), axis=1)\n",
    "\n",
    "nig_nmis.head(10)"
   ]
  },
  {
   "cell_type": "code",
   "execution_count": 10,
   "metadata": {},
   "outputs": [
    {
     "data": {
      "text/plain": [
       "Minor    0.888251\n",
       "Major    0.111749\n",
       "Name: Category, dtype: float64"
      ]
     },
     "execution_count": 10,
     "metadata": {},
     "output_type": "execute_result"
    }
   ],
   "source": [
    "nig_nmis['Category'].value_counts(normalize=True)"
   ]
  },
  {
   "cell_type": "markdown",
   "metadata": {},
   "source": [
    "# Observations from Facility Type and Emergency Services\n",
    "\n",
    "<br> **1.** Our first Observations is that the distribution of Specialist Hospitals seems to skewed and in favour of the South-west and South-East. We observe that Two-thirds of the Health Centers are located in the South.\n",
    "\n",
    "<br> **2.** We also notice that we have a lot more Health Post in the Southern Part of Nigeria than the North.\n",
    "\n",
    "<br> **3.** Of the total 34139 Health Centers in Nigeria, only 11% are major Health centers. Major health centers being Specialist, Teaching, General and District hospitals. 50% of the health centres which lead the list are Primary Health Centres\n",
    "\n",
    "<br> **4.** Out of the 11% of the Major Health Centres only 69% have **Emergency Transport** available. Out of the Total Health Centres in Nigeria, only 68.4% have Emergency Services\n",
    "\n",
    "<br> **5.** Out of the 34139 Health Centers in Nigeria, we have only 343 General Hospitals out of which only 74% have emergency services."
   ]
  },
  {
   "cell_type": "markdown",
   "metadata": {},
   "source": [
    "# Emergency Services(Transport)"
   ]
  },
  {
   "cell_type": "code",
   "execution_count": 11,
   "metadata": {},
   "outputs": [
    {
     "name": "stdout",
     "output_type": "stream",
     "text": [
      "True     0.689646\n",
      "False    0.310354\n",
      "Name: emergency_transport, dtype: float64\n"
     ]
    }
   ],
   "source": [
    "#print(nig_nmis['emergency_transport'].value_counts(normalize=True))\n",
    "\n",
    "emergency = nig_nmis[nig_nmis['Category'] == 'Major']\n",
    "\n",
    "print(emergency['emergency_transport'].value_counts(normalize=True))"
   ]
  },
  {
   "cell_type": "code",
   "execution_count": 12,
   "metadata": {},
   "outputs": [
    {
     "name": "stdout",
     "output_type": "stream",
     "text": [
      "True     0.74344\n",
      "False    0.25656\n",
      "Name: emergency_transport, dtype: float64\n"
     ]
    }
   ],
   "source": [
    "#Lets check if all of our General Hospitals have Emergency Transport\n",
    "\n",
    "general = nig_nmis[nig_nmis['facility_type_display'] == 'General Hospital']\n",
    "\n",
    "print(general['emergency_transport'].value_counts(normalize=True))"
   ]
  },
  {
   "cell_type": "code",
   "execution_count": 13,
   "metadata": {},
   "outputs": [
    {
     "data": {
      "text/plain": [
       "False    0.684584\n",
       "True     0.315416\n",
       "Name: emergency_transport, dtype: float64"
      ]
     },
     "execution_count": 13,
     "metadata": {},
     "output_type": "execute_result"
    }
   ],
   "source": [
    "nig_nmis['emergency_transport'].value_counts(normalize=True)"
   ]
  },
  {
   "cell_type": "markdown",
   "metadata": {},
   "source": [
    "# Availability of Doctors,Nurses and Mid_Wives"
   ]
  },
  {
   "cell_type": "markdown",
   "metadata": {},
   "source": [
    "In considering the Emergency Status of an Health Center it is also important to consider the Availabilty of Full_time of Doctors and How many."
   ]
  },
  {
   "cell_type": "code",
   "execution_count": 16,
   "metadata": {},
   "outputs": [
    {
     "data": {
      "text/plain": [
       "0.0    23899\n",
       "1.0     4842\n",
       "2.0     1721\n",
       "3.0      665\n",
       "4.0      315\n",
       "5.0      166\n",
       "6.0       97\n",
       "7.0       51\n",
       "8.0       35\n",
       "9.0       27\n",
       "Name: num_doctors_fulltime, dtype: int64"
      ]
     },
     "execution_count": 16,
     "metadata": {},
     "output_type": "execute_result"
    }
   ],
   "source": [
    "#Number of Doctors on Full_time\n",
    "\n",
    "nig_nmis['num_doctors_fulltime'].value_counts().iloc[:10]"
   ]
  },
  {
   "cell_type": "code",
   "execution_count": 17,
   "metadata": {},
   "outputs": [],
   "source": [
    "#First lets remove those without Doctors\n",
    "with_doctors = nig_nmis.drop(nig_nmis[nig_nmis['num_doctors_fulltime'] == 0.0].index)\n",
    "without_doctors = nig_nmis[nig_nmis['num_doctors_fulltime'] == 0.0]\n",
    "with_doctors = without_doctors[without_doctors['num_doctors_fulltime'].notnull()]\n",
    "#without_doctors.head(10)"
   ]
  },
  {
   "cell_type": "markdown",
   "metadata": {},
   "source": [
    "# Understanding How Comprehensive the Minor Health Care Centers\n",
    "\n",
    "Since Majority of our Health Care centers are Minor Health Care Centers like Primary Health Care Centers, dispensary etc. We want to understand how comprehensive this Health Care Centres are."
   ]
  },
  {
   "cell_type": "code",
   "execution_count": 18,
   "metadata": {},
   "outputs": [
    {
     "name": "stdout",
     "output_type": "stream",
     "text": [
      "lenght_without_doctors_not_minor:23899\n",
      "lenght_without_doctors:23517\n",
      "difference is 382\n",
      "Percentage_difference is:1.118954861009403\n",
      "20309\n",
      "59.48914730952869\n",
      "17202\n",
      "50.388119159905095\n"
     ]
    }
   ],
   "source": [
    "minors = nig_nmis[nig_nmis['Category'] == 'Minor']\n",
    "\n",
    "without_doctors_not_minor = nig_nmis[nig_nmis['num_doctors_fulltime'] == 0.0]\n",
    "lenght_without_doctors_not_minor = len(without_doctors_not_minor)\n",
    "print('lenght_without_doctors_not_minor:{}'.format(lenght_without_doctors_not_minor))\n",
    "\n",
    "without_doctors = minors[minors['num_doctors_fulltime'] == 0.0]\n",
    "lenght_without_doctors = len(without_doctors)\n",
    "print('lenght_without_doctors:{}'.format(lenght_without_doctors))\n",
    "\n",
    "difference = lenght_without_doctors_not_minor - lenght_without_doctors\n",
    "print('difference is {}'.format(difference))\n",
    "percentage_difference = (difference/total)*100\n",
    "print('Percentage_difference is:{}'.format(percentage_difference))\n",
    "\n",
    "without_doctors_and_nurses = without_doctors[without_doctors['num_nurses_fulltime'] == 0.0]\n",
    "\n",
    "length_of_without_doctors_and_nurses = len(without_doctors_and_nurses)\n",
    "print(length_of_without_doctors_and_nurses)\n",
    "percentage = (length_of_without_doctors_and_nurses/total)*100\n",
    "print(percentage)\n",
    "\n",
    "without_doctors_and_nurses_and_midwives = without_doctors_and_nurses[without_doctors_and_nurses[\n",
    "    'num_nursemidwives_fulltime'] == 0.0]\n",
    "\n",
    "length_of_without_doctors_and_nurses_and_midwives = len(without_doctors_and_nurses_and_midwives)\n",
    "print(length_of_without_doctors_and_nurses_and_midwives)\n",
    "percentage1 = (length_of_without_doctors_and_nurses_and_midwives/total)*100\n",
    "print(percentage1)"
   ]
  },
  {
   "cell_type": "markdown",
   "metadata": {},
   "source": [
    "# Observations from Doctor Availability\n",
    "\n",
    "**1.** We have 23,899 Health Centers that have no Doctors on Full_time, which is about 74.7% of the Total Health Centers.\n",
    "\n",
    "<br> **2.** We have 382 Major Health Centers like General, Specialist, Teaching Hospitals without Doctors on Full_time, which is about 1.12%.\n",
    "\n",
    "<br> **3.** We have 20,309 Minor Health Centers without Doctors and Nurses on Full_time, which is about 59.48% of the total Health Centers.\n",
    "\n",
    "<br> **4.** We have 17,202 Minor Health Centers without Doctors and Nurses and Mid_Wives on Full_time, which is about 50.38% of the total Health Centers."
   ]
  },
  {
   "cell_type": "markdown",
   "metadata": {},
   "source": [
    "# Improved Water Supply"
   ]
  },
  {
   "cell_type": "code",
   "execution_count": 26,
   "metadata": {},
   "outputs": [
    {
     "data": {
      "text/plain": [
       "False    0.53118\n",
       "True     0.46882\n",
       "Name: improved_water_supply, dtype: float64"
      ]
     },
     "execution_count": 26,
     "metadata": {},
     "output_type": "execute_result"
    }
   ],
   "source": [
    "nig_nmis['improved_water_supply'].value_counts(normalize=True)"
   ]
  },
  {
   "cell_type": "code",
   "execution_count": 27,
   "metadata": {},
   "outputs": [
    {
     "name": "stdout",
     "output_type": "stream",
     "text": [
      "524\n"
     ]
    }
   ],
   "source": [
    "major = nig_nmis[nig_nmis['Category'] == 'Major']\n",
    "\n",
    "major_without_improved_water = major[major['improved_water_supply'] == False]\n",
    "lenght_major_without_improved_water = len(major_without_improved_water)\n",
    "print(lenght_major_without_improved_water)"
   ]
  },
  {
   "cell_type": "markdown",
   "metadata": {},
   "source": [
    "# Observations for Improved Water Supply\n",
    "\n",
    "**1.** We have 15784 Health Care Centers which is about 53.1% of the total health Centers in Nigeria. This means about 1 out of 2 health centers do not have access to improved Water Supply.\n",
    "\n",
    "**2.** We have 524 Major (Specialist,General,teaching and District)  Health Care Centers without improved water Supply."
   ]
  },
  {
   "cell_type": "markdown",
   "metadata": {},
   "source": [
    "# Management"
   ]
  },
  {
   "cell_type": "code",
   "execution_count": 24,
   "metadata": {},
   "outputs": [
    {
     "data": {
      "text/plain": [
       "public         24763\n",
       "private         4189\n",
       "faith_based      249\n",
       "dk               184\n",
       "Name: management, dtype: int64"
      ]
     },
     "execution_count": 24,
     "metadata": {},
     "output_type": "execute_result"
    }
   ],
   "source": [
    "nig_nmis['management'].value_counts()"
   ]
  },
  {
   "cell_type": "code",
   "execution_count": 71,
   "metadata": {},
   "outputs": [
    {
     "data": {
      "text/plain": [
       "<matplotlib.axes._subplots.AxesSubplot at 0x12c23cf98>"
      ]
     },
     "execution_count": 71,
     "metadata": {},
     "output_type": "execute_result"
    },
    {
     "data": {
      "image/png": "[encoded data removed]",
      "text/plain": [
       "<Figure size 720x720 with 1 Axes>"
      ]
     },
     "metadata": {},
     "output_type": "display_data"
    }
   ],
   "source": [
    "major['management'].value_counts().plot(kind='pie',figsize=(10,10))"
   ]
  },
  {
   "cell_type": "markdown",
   "metadata": {},
   "source": [
    "Who runs our Major Health Centers?"
   ]
  },
  {
   "cell_type": "code",
   "execution_count": 22,
   "metadata": {},
   "outputs": [
    {
     "name": "stdout",
     "output_type": "stream",
     "text": [
      "3815\n"
     ]
    },
    {
     "data": {
      "text/plain": [
       "public         0.525240\n",
       "private        0.443888\n",
       "faith_based    0.028786\n",
       "dk             0.002086\n",
       "Name: management, dtype: float64"
      ]
     },
     "execution_count": 22,
     "metadata": {},
     "output_type": "execute_result"
    }
   ],
   "source": [
    "major = nig_nmis[nig_nmis['Category'] == 'Major']\n",
    "print(len(major))\n",
    "\n",
    "\n",
    "major['management'].value_counts(normalize=True)"
   ]
  },
  {
   "cell_type": "code",
   "execution_count": 30,
   "metadata": {},
   "outputs": [
    {
     "name": "stdout",
     "output_type": "stream",
     "text": [
      "30324\n"
     ]
    },
    {
     "data": {
      "text/plain": [
       "public         0.870906\n",
       "private        0.115792\n",
       "faith_based    0.006670\n",
       "dk             0.006633\n",
       "Name: management, dtype: float64"
      ]
     },
     "execution_count": 30,
     "metadata": {},
     "output_type": "execute_result"
    }
   ],
   "source": [
    "print(len(minors))\n",
    "minors['management'].value_counts(normalize=True)"
   ]
  },
  {
   "cell_type": "code",
   "execution_count": 32,
   "metadata": {},
   "outputs": [
    {
     "data": {
      "text/plain": [
       "True     0.606589\n",
       "False    0.393411\n",
       "Name: emergency_transport, dtype: float64"
      ]
     },
     "execution_count": 32,
     "metadata": {},
     "output_type": "execute_result"
    }
   ],
   "source": [
    "#Lets Consider how Private Health perform compared to Public Health Centers.\n",
    "\n",
    "private = nig_nmis[nig_nmis['management'] == 'private']\n",
    "public = nig_nmis[nig_nmis['management'] == 'public']\n",
    "\n",
    "\n",
    "private['emergency_transport'].value_counts(normalize=True)\n"
   ]
  },
  {
   "cell_type": "code",
   "execution_count": 33,
   "metadata": {},
   "outputs": [
    {
     "data": {
      "text/plain": [
       "False    0.76372\n",
       "True     0.23628\n",
       "Name: emergency_transport, dtype: float64"
      ]
     },
     "execution_count": 33,
     "metadata": {},
     "output_type": "execute_result"
    }
   ],
   "source": [
    "public['emergency_transport'].value_counts(normalize=True)"
   ]
  },
  {
   "cell_type": "code",
   "execution_count": 34,
   "metadata": {},
   "outputs": [
    {
     "data": {
      "text/plain": [
       "False    0.54225\n",
       "True     0.45775\n",
       "Name: improved_sanitation, dtype: float64"
      ]
     },
     "execution_count": 34,
     "metadata": {},
     "output_type": "execute_result"
    }
   ],
   "source": [
    "public['improved_sanitation'].value_counts(normalize=True)"
   ]
  },
  {
   "cell_type": "code",
   "execution_count": 35,
   "metadata": {},
   "outputs": [
    {
     "data": {
      "text/plain": [
       "True     0.890427\n",
       "False    0.109573\n",
       "Name: improved_sanitation, dtype: float64"
      ]
     },
     "execution_count": 35,
     "metadata": {},
     "output_type": "execute_result"
    }
   ],
   "source": [
    "private['improved_sanitation'].value_counts(normalize=True)"
   ]
  },
  {
   "cell_type": "code",
   "execution_count": 36,
   "metadata": {},
   "outputs": [
    {
     "data": {
      "text/plain": [
       "False    0.584747\n",
       "True     0.415253\n",
       "Name: improved_water_supply, dtype: float64"
      ]
     },
     "execution_count": 36,
     "metadata": {},
     "output_type": "execute_result"
    }
   ],
   "source": [
    "public['improved_water_supply'].value_counts(normalize=True)"
   ]
  },
  {
   "cell_type": "code",
   "execution_count": 37,
   "metadata": {},
   "outputs": [
    {
     "data": {
      "text/plain": [
       "True     0.777221\n",
       "False    0.222779\n",
       "Name: improved_water_supply, dtype: float64"
      ]
     },
     "execution_count": 37,
     "metadata": {},
     "output_type": "execute_result"
    }
   ],
   "source": [
    "private['improved_water_supply'].value_counts(normalize=True)"
   ]
  },
  {
   "cell_type": "code",
   "execution_count": 38,
   "metadata": {},
   "outputs": [
    {
     "data": {
      "text/plain": [
       "True     0.693267\n",
       "False    0.306733\n",
       "Name: antenatal_care_yn, dtype: float64"
      ]
     },
     "execution_count": 38,
     "metadata": {},
     "output_type": "execute_result"
    }
   ],
   "source": [
    "public['antenatal_care_yn'].value_counts(normalize=True)"
   ]
  },
  {
   "cell_type": "code",
   "execution_count": 39,
   "metadata": {},
   "outputs": [
    {
     "data": {
      "text/plain": [
       "True     0.833129\n",
       "False    0.166871\n",
       "Name: antenatal_care_yn, dtype: float64"
      ]
     },
     "execution_count": 39,
     "metadata": {},
     "output_type": "execute_result"
    }
   ],
   "source": [
    "private['antenatal_care_yn'].value_counts(normalize=True)"
   ]
  },
  {
   "cell_type": "code",
   "execution_count": 40,
   "metadata": {},
   "outputs": [
    {
     "data": {
      "text/plain": [
       "False    0.948701\n",
       "True     0.051299\n",
       "Name: c_section_yn, dtype: float64"
      ]
     },
     "execution_count": 40,
     "metadata": {},
     "output_type": "execute_result"
    }
   ],
   "source": [
    "public['c_section_yn'].value_counts(normalize=True)"
   ]
  },
  {
   "cell_type": "code",
   "execution_count": 41,
   "metadata": {},
   "outputs": [
    {
     "data": {
      "text/plain": [
       "False    0.522122\n",
       "True     0.477878\n",
       "Name: c_section_yn, dtype: float64"
      ]
     },
     "execution_count": 41,
     "metadata": {},
     "output_type": "execute_result"
    }
   ],
   "source": [
    "private['c_section_yn'].value_counts(normalize=True)"
   ]
  },
  {
   "cell_type": "markdown",
   "metadata": {},
   "source": [
    "# Observations from Management\n",
    "\n",
    "**1.** Of the 3815 Major Health Centers in Nigeria, 1064 are Private, which is 44.3%. One would expect that a Private health centre in Nigeria would be more expensive.This is more than 1 in 3 Health Centers. 3% is also faith-Based.\n",
    "\n",
    "**2.** Of the Minor Category, 87.1% are Public\n",
    "\n",
    "**3.** In terms of Availablility of Emergency Transport, Privatly owned Health Centers perform better than their public counterparts. With about 60.6% of privately owned Health centers having emergency transport while 76.3% of publicly owned Health centers not having Emergency transport.\n",
    "\n",
    "**4.** The  state of the Nigerian Private Owned Private health centers seems to be better generally in terms of Antenantal Care,Improved water supply, improved sanitation and availability of Emergency transport. Although Many Public Health centers provide more **Caesarean section** than their public counterparts."
   ]
  },
  {
   "cell_type": "markdown",
   "metadata": {},
   "source": [
    "# Improved Sanitation"
   ]
  },
  {
   "cell_type": "code",
   "execution_count": 20,
   "metadata": {},
   "outputs": [
    {
     "data": {
      "text/plain": [
       "False    0.545625\n",
       "True     0.454375\n",
       "Name: improved_sanitation, dtype: float64"
      ]
     },
     "execution_count": 20,
     "metadata": {},
     "output_type": "execute_result"
    }
   ],
   "source": [
    "nig_nmis['improved_sanitation'].value_counts(normalize=True)"
   ]
  },
  {
   "cell_type": "code",
   "execution_count": 42,
   "metadata": {},
   "outputs": [
    {
     "data": {
      "text/plain": [
       "True     0.580603\n",
       "False    0.419397\n",
       "Name: improved_sanitation, dtype: float64"
      ]
     },
     "execution_count": 42,
     "metadata": {},
     "output_type": "execute_result"
    }
   ],
   "source": [
    "#Major Health Centers without Improved Sanitation\n",
    "\n",
    "major['improved_sanitation'].value_counts(normalize=True)"
   ]
  },
  {
   "cell_type": "code",
   "execution_count": 43,
   "metadata": {},
   "outputs": [
    {
     "data": {
      "text/plain": [
       "<matplotlib.axes._subplots.AxesSubplot at 0x12e3d6d30>"
      ]
     },
     "execution_count": 43,
     "metadata": {},
     "output_type": "execute_result"
    },
    {
     "data": {
      "image/png": "[encoded data removed]",
      "text/plain": [
       "<Figure size 720x720 with 1 Axes>"
      ]
     },
     "metadata": {},
     "output_type": "display_data"
    }
   ],
   "source": [
    "major['improved_sanitation'].value_counts(normalize=True).plot(kind='pie',figsize=(10,10))"
   ]
  },
  {
   "cell_type": "markdown",
   "metadata": {},
   "source": [
    "# Observations from Improved Sanitation\n",
    "\n",
    "\n",
    "**1.** About 42% of of the Major Health Centers in Nigeria do not have Improved Sanitation. \n",
    "\n",
    "\n",
    "**2.** While about 54.5% of the total Health Centers do not have Improved Sanitation."
   ]
  },
  {
   "cell_type": "markdown",
   "metadata": {},
   "source": [
    "# Maternal and Early Childhood Care"
   ]
  },
  {
   "cell_type": "code",
   "execution_count": 44,
   "metadata": {},
   "outputs": [
    {
     "data": {
      "text/html": [
       "<div>\n",
       "<style scoped>\n",
       "    .dataframe tbody tr th:only-of-type {\n",
       "        vertical-align: middle;\n",
       "    }\n",
       "\n",
       "    .dataframe tbody tr th {\n",
       "        vertical-align: top;\n",
       "    }\n",
       "\n",
       "    .dataframe thead th {\n",
       "        text-align: right;\n",
       "    }\n",
       "</style>\n",
       "<table border=\"1\" class=\"dataframe\">\n",
       "  <thead>\n",
       "    <tr style=\"text-align: right;\">\n",
       "      <th></th>\n",
       "      <th>maternal_health_delivery_services</th>\n",
       "      <th>facility_type_display</th>\n",
       "      <th>management</th>\n",
       "      <th>emergency_transport</th>\n",
       "      <th>skilled_birth_attendant</th>\n",
       "      <th>phcn_electricity</th>\n",
       "      <th>c_section_yn</th>\n",
       "      <th>child_health_measles_immun_calc</th>\n",
       "      <th>improved_water_supply</th>\n",
       "      <th>improved_sanitation</th>\n",
       "      <th>...</th>\n",
       "      <th>family_planning_yn</th>\n",
       "      <th>malaria_treatment_artemisinin</th>\n",
       "      <th>num_chews_fulltime</th>\n",
       "      <th>num_nurses_fulltime</th>\n",
       "      <th>num_nursemidwives_fulltime</th>\n",
       "      <th>num_doctors_fulltime</th>\n",
       "      <th>latitude</th>\n",
       "      <th>longitude</th>\n",
       "      <th>geometry</th>\n",
       "      <th>Category</th>\n",
       "    </tr>\n",
       "  </thead>\n",
       "  <tbody>\n",
       "    <tr>\n",
       "      <th>0</th>\n",
       "      <td>True</td>\n",
       "      <td>Health Post</td>\n",
       "      <td>public</td>\n",
       "      <td>True</td>\n",
       "      <td>False</td>\n",
       "      <td>True</td>\n",
       "      <td>False</td>\n",
       "      <td>True</td>\n",
       "      <td>False</td>\n",
       "      <td>False</td>\n",
       "      <td>...</td>\n",
       "      <td>False</td>\n",
       "      <td>True</td>\n",
       "      <td>1.0</td>\n",
       "      <td>0.0</td>\n",
       "      <td>0.0</td>\n",
       "      <td>0.0</td>\n",
       "      <td>6.543408</td>\n",
       "      <td>9.084703</td>\n",
       "      <td>POINT (9.08470312 6.54340807)</td>\n",
       "      <td>Minor</td>\n",
       "    </tr>\n",
       "    <tr>\n",
       "      <th>1</th>\n",
       "      <td>True</td>\n",
       "      <td>Primary Health Centre</td>\n",
       "      <td>private</td>\n",
       "      <td>True</td>\n",
       "      <td>True</td>\n",
       "      <td>True</td>\n",
       "      <td>False</td>\n",
       "      <td>True</td>\n",
       "      <td>False</td>\n",
       "      <td>True</td>\n",
       "      <td>...</td>\n",
       "      <td>False</td>\n",
       "      <td>True</td>\n",
       "      <td>4.0</td>\n",
       "      <td>1.0</td>\n",
       "      <td>1.0</td>\n",
       "      <td>1.0</td>\n",
       "      <td>9.007209</td>\n",
       "      <td>7.677808</td>\n",
       "      <td>POINT (7.67780798 9.007208609999999)</td>\n",
       "      <td>Minor</td>\n",
       "    </tr>\n",
       "    <tr>\n",
       "      <th>2</th>\n",
       "      <td>True</td>\n",
       "      <td>Primary Health Centre</td>\n",
       "      <td>public</td>\n",
       "      <td>True</td>\n",
       "      <td>True</td>\n",
       "      <td>True</td>\n",
       "      <td>True</td>\n",
       "      <td>True</td>\n",
       "      <td>True</td>\n",
       "      <td>True</td>\n",
       "      <td>...</td>\n",
       "      <td>True</td>\n",
       "      <td>True</td>\n",
       "      <td>2.0</td>\n",
       "      <td>4.0</td>\n",
       "      <td>11.0</td>\n",
       "      <td>2.0</td>\n",
       "      <td>5.129700</td>\n",
       "      <td>7.159200</td>\n",
       "      <td>POINT (7.1592 5.1297)</td>\n",
       "      <td>Minor</td>\n",
       "    </tr>\n",
       "    <tr>\n",
       "      <th>3</th>\n",
       "      <td>True</td>\n",
       "      <td>Primary Health Centre</td>\n",
       "      <td>public</td>\n",
       "      <td>False</td>\n",
       "      <td>False</td>\n",
       "      <td>False</td>\n",
       "      <td>False</td>\n",
       "      <td>True</td>\n",
       "      <td>True</td>\n",
       "      <td>False</td>\n",
       "      <td>...</td>\n",
       "      <td>True</td>\n",
       "      <td>True</td>\n",
       "      <td>2.0</td>\n",
       "      <td>0.0</td>\n",
       "      <td>0.0</td>\n",
       "      <td>0.0</td>\n",
       "      <td>5.463300</td>\n",
       "      <td>8.146400</td>\n",
       "      <td>POINT (8.1464 5.4633)</td>\n",
       "      <td>Minor</td>\n",
       "    </tr>\n",
       "    <tr>\n",
       "      <th>4</th>\n",
       "      <td>True</td>\n",
       "      <td>Health Post</td>\n",
       "      <td>public</td>\n",
       "      <td>False</td>\n",
       "      <td>False</td>\n",
       "      <td>False</td>\n",
       "      <td>False</td>\n",
       "      <td>True</td>\n",
       "      <td>False</td>\n",
       "      <td>False</td>\n",
       "      <td>...</td>\n",
       "      <td>True</td>\n",
       "      <td>True</td>\n",
       "      <td>0.0</td>\n",
       "      <td>0.0</td>\n",
       "      <td>0.0</td>\n",
       "      <td>0.0</td>\n",
       "      <td>5.504000</td>\n",
       "      <td>8.025100</td>\n",
       "      <td>POINT (8.0251 5.504)</td>\n",
       "      <td>Minor</td>\n",
       "    </tr>\n",
       "    <tr>\n",
       "      <th>5</th>\n",
       "      <td>True</td>\n",
       "      <td>Health Post</td>\n",
       "      <td>private</td>\n",
       "      <td>True</td>\n",
       "      <td>True</td>\n",
       "      <td>False</td>\n",
       "      <td>True</td>\n",
       "      <td>False</td>\n",
       "      <td>True</td>\n",
       "      <td>True</td>\n",
       "      <td>...</td>\n",
       "      <td>True</td>\n",
       "      <td>True</td>\n",
       "      <td>0.0</td>\n",
       "      <td>2.0</td>\n",
       "      <td>0.0</td>\n",
       "      <td>1.0</td>\n",
       "      <td>5.076200</td>\n",
       "      <td>5.871500</td>\n",
       "      <td>POINT (5.8715 5.0762)</td>\n",
       "      <td>Minor</td>\n",
       "    </tr>\n",
       "    <tr>\n",
       "      <th>6</th>\n",
       "      <td>False</td>\n",
       "      <td>Health Post</td>\n",
       "      <td>public</td>\n",
       "      <td>False</td>\n",
       "      <td>False</td>\n",
       "      <td>False</td>\n",
       "      <td>False</td>\n",
       "      <td>True</td>\n",
       "      <td>False</td>\n",
       "      <td>False</td>\n",
       "      <td>...</td>\n",
       "      <td>True</td>\n",
       "      <td>True</td>\n",
       "      <td>0.0</td>\n",
       "      <td>1.0</td>\n",
       "      <td>0.0</td>\n",
       "      <td>0.0</td>\n",
       "      <td>6.447500</td>\n",
       "      <td>9.049100</td>\n",
       "      <td>POINT (9.049099999999999 6.4475)</td>\n",
       "      <td>Minor</td>\n",
       "    </tr>\n",
       "    <tr>\n",
       "      <th>7</th>\n",
       "      <td>True</td>\n",
       "      <td>Specialist Hospital</td>\n",
       "      <td>private</td>\n",
       "      <td>True</td>\n",
       "      <td>True</td>\n",
       "      <td>True</td>\n",
       "      <td>True</td>\n",
       "      <td>True</td>\n",
       "      <td>True</td>\n",
       "      <td>True</td>\n",
       "      <td>...</td>\n",
       "      <td>True</td>\n",
       "      <td>True</td>\n",
       "      <td>1.0</td>\n",
       "      <td>6.0</td>\n",
       "      <td>12.0</td>\n",
       "      <td>5.0</td>\n",
       "      <td>5.546000</td>\n",
       "      <td>5.761100</td>\n",
       "      <td>POINT (5.7611 5.546)</td>\n",
       "      <td>Major</td>\n",
       "    </tr>\n",
       "    <tr>\n",
       "      <th>8</th>\n",
       "      <td>True</td>\n",
       "      <td>Specialist Hospital</td>\n",
       "      <td>private</td>\n",
       "      <td>True</td>\n",
       "      <td>True</td>\n",
       "      <td>True</td>\n",
       "      <td>True</td>\n",
       "      <td>True</td>\n",
       "      <td>True</td>\n",
       "      <td>True</td>\n",
       "      <td>...</td>\n",
       "      <td>True</td>\n",
       "      <td>True</td>\n",
       "      <td>4.0</td>\n",
       "      <td>NaN</td>\n",
       "      <td>4.0</td>\n",
       "      <td>15.0</td>\n",
       "      <td>5.525800</td>\n",
       "      <td>5.765100</td>\n",
       "      <td>POINT (5.7651 5.5258)</td>\n",
       "      <td>Major</td>\n",
       "    </tr>\n",
       "    <tr>\n",
       "      <th>9</th>\n",
       "      <td>True</td>\n",
       "      <td>Health Post</td>\n",
       "      <td>private</td>\n",
       "      <td>False</td>\n",
       "      <td>False</td>\n",
       "      <td>False</td>\n",
       "      <td>False</td>\n",
       "      <td>False</td>\n",
       "      <td>True</td>\n",
       "      <td>True</td>\n",
       "      <td>...</td>\n",
       "      <td>False</td>\n",
       "      <td>True</td>\n",
       "      <td>1.0</td>\n",
       "      <td>0.0</td>\n",
       "      <td>0.0</td>\n",
       "      <td>0.0</td>\n",
       "      <td>10.285225</td>\n",
       "      <td>8.594392</td>\n",
       "      <td>POINT (8.594391870000001 10.28522539)</td>\n",
       "      <td>Minor</td>\n",
       "    </tr>\n",
       "  </tbody>\n",
       "</table>\n",
       "<p>10 rows × 22 columns</p>\n",
       "</div>"
      ],
      "text/plain": [
       "  maternal_health_delivery_services  facility_type_display management  \\\n",
       "0                              True            Health Post     public   \n",
       "1                              True  Primary Health Centre    private   \n",
       "2                              True  Primary Health Centre     public   \n",
       "3                              True  Primary Health Centre     public   \n",
       "4                              True            Health Post     public   \n",
       "5                              True            Health Post    private   \n",
       "6                             False            Health Post     public   \n",
       "7                              True    Specialist Hospital    private   \n",
       "8                              True    Specialist Hospital    private   \n",
       "9                              True            Health Post    private   \n",
       "\n",
       "   emergency_transport skilled_birth_attendant phcn_electricity c_section_yn  \\\n",
       "0                 True                   False             True        False   \n",
       "1                 True                    True             True        False   \n",
       "2                 True                    True             True         True   \n",
       "3                False                   False            False        False   \n",
       "4                False                   False            False        False   \n",
       "5                 True                    True            False         True   \n",
       "6                False                   False            False        False   \n",
       "7                 True                    True             True         True   \n",
       "8                 True                    True             True         True   \n",
       "9                False                   False            False        False   \n",
       "\n",
       "  child_health_measles_immun_calc improved_water_supply improved_sanitation  \\\n",
       "0                            True                 False               False   \n",
       "1                            True                 False                True   \n",
       "2                            True                  True                True   \n",
       "3                            True                  True               False   \n",
       "4                            True                 False               False   \n",
       "5                           False                  True                True   \n",
       "6                            True                 False               False   \n",
       "7                            True                  True                True   \n",
       "8                            True                  True                True   \n",
       "9                           False                  True                True   \n",
       "\n",
       "   ... family_planning_yn malaria_treatment_artemisinin num_chews_fulltime  \\\n",
       "0  ...              False                          True                1.0   \n",
       "1  ...              False                          True                4.0   \n",
       "2  ...               True                          True                2.0   \n",
       "3  ...               True                          True                2.0   \n",
       "4  ...               True                          True                0.0   \n",
       "5  ...               True                          True                0.0   \n",
       "6  ...               True                          True                0.0   \n",
       "7  ...               True                          True                1.0   \n",
       "8  ...               True                          True                4.0   \n",
       "9  ...              False                          True                1.0   \n",
       "\n",
       "  num_nurses_fulltime  num_nursemidwives_fulltime  num_doctors_fulltime  \\\n",
       "0                 0.0                         0.0                   0.0   \n",
       "1                 1.0                         1.0                   1.0   \n",
       "2                 4.0                        11.0                   2.0   \n",
       "3                 0.0                         0.0                   0.0   \n",
       "4                 0.0                         0.0                   0.0   \n",
       "5                 2.0                         0.0                   1.0   \n",
       "6                 1.0                         0.0                   0.0   \n",
       "7                 6.0                        12.0                   5.0   \n",
       "8                 NaN                         4.0                  15.0   \n",
       "9                 0.0                         0.0                   0.0   \n",
       "\n",
       "    latitude  longitude                               geometry  Category  \n",
       "0   6.543408   9.084703          POINT (9.08470312 6.54340807)     Minor  \n",
       "1   9.007209   7.677808   POINT (7.67780798 9.007208609999999)     Minor  \n",
       "2   5.129700   7.159200                  POINT (7.1592 5.1297)     Minor  \n",
       "3   5.463300   8.146400                  POINT (8.1464 5.4633)     Minor  \n",
       "4   5.504000   8.025100                   POINT (8.0251 5.504)     Minor  \n",
       "5   5.076200   5.871500                  POINT (5.8715 5.0762)     Minor  \n",
       "6   6.447500   9.049100       POINT (9.049099999999999 6.4475)     Minor  \n",
       "7   5.546000   5.761100                   POINT (5.7611 5.546)     Major  \n",
       "8   5.525800   5.765100                  POINT (5.7651 5.5258)     Major  \n",
       "9  10.285225   8.594392  POINT (8.594391870000001 10.28522539)     Minor  \n",
       "\n",
       "[10 rows x 22 columns]"
      ]
     },
     "execution_count": 44,
     "metadata": {},
     "output_type": "execute_result"
    }
   ],
   "source": [
    "#I like to view the Data once again.\n",
    "\n",
    "nig_nmis.head(10)"
   ]
  },
  {
   "cell_type": "code",
   "execution_count": 45,
   "metadata": {},
   "outputs": [
    {
     "data": {
      "text/plain": [
       "Index(['maternal_health_delivery_services', 'facility_type_display',\n",
       "       'management', 'emergency_transport', 'skilled_birth_attendant',\n",
       "       'phcn_electricity', 'c_section_yn', 'child_health_measles_immun_calc',\n",
       "       'improved_water_supply', 'improved_sanitation',\n",
       "       'vaccines_fridge_freezer', 'antenatal_care_yn', 'family_planning_yn',\n",
       "       'malaria_treatment_artemisinin', 'num_chews_fulltime',\n",
       "       'num_nurses_fulltime', 'num_nursemidwives_fulltime',\n",
       "       'num_doctors_fulltime', 'latitude', 'longitude', 'geometry',\n",
       "       'Category'],\n",
       "      dtype='object')"
      ]
     },
     "execution_count": 45,
     "metadata": {},
     "output_type": "execute_result"
    }
   ],
   "source": [
    "nig_nmis.columns"
   ]
  },
  {
   "cell_type": "code",
   "execution_count": 46,
   "metadata": {},
   "outputs": [
    {
     "data": {
      "text/plain": [
       "True     20920\n",
       "False    12531\n",
       "Name: maternal_health_delivery_services, dtype: int64"
      ]
     },
     "execution_count": 46,
     "metadata": {},
     "output_type": "execute_result"
    }
   ],
   "source": [
    "#Value counts for Maternal Health Delivery Services\n",
    "\n",
    "nig_nmis['maternal_health_delivery_services'].value_counts()"
   ]
  },
  {
   "cell_type": "code",
   "execution_count": 49,
   "metadata": {},
   "outputs": [
    {
     "data": {
      "text/html": [
       "<div>\n",
       "<style scoped>\n",
       "    .dataframe tbody tr th:only-of-type {\n",
       "        vertical-align: middle;\n",
       "    }\n",
       "\n",
       "    .dataframe tbody tr th {\n",
       "        vertical-align: top;\n",
       "    }\n",
       "\n",
       "    .dataframe thead th {\n",
       "        text-align: right;\n",
       "    }\n",
       "</style>\n",
       "<table border=\"1\" class=\"dataframe\">\n",
       "  <thead>\n",
       "    <tr style=\"text-align: right;\">\n",
       "      <th></th>\n",
       "      <th>maternal_health_delivery_services</th>\n",
       "      <th>skilled_birth_attendant</th>\n",
       "      <th>child_health_measles_immun_calc</th>\n",
       "      <th>antenatal_care_yn</th>\n",
       "      <th>family_planning_yn</th>\n",
       "      <th>num_nursemidwives_fulltime</th>\n",
       "    </tr>\n",
       "  </thead>\n",
       "  <tbody>\n",
       "    <tr>\n",
       "      <th>0</th>\n",
       "      <td>True</td>\n",
       "      <td>False</td>\n",
       "      <td>True</td>\n",
       "      <td>True</td>\n",
       "      <td>False</td>\n",
       "      <td>0.0</td>\n",
       "    </tr>\n",
       "    <tr>\n",
       "      <th>1</th>\n",
       "      <td>True</td>\n",
       "      <td>True</td>\n",
       "      <td>True</td>\n",
       "      <td>True</td>\n",
       "      <td>False</td>\n",
       "      <td>1.0</td>\n",
       "    </tr>\n",
       "    <tr>\n",
       "      <th>2</th>\n",
       "      <td>True</td>\n",
       "      <td>True</td>\n",
       "      <td>True</td>\n",
       "      <td>True</td>\n",
       "      <td>True</td>\n",
       "      <td>11.0</td>\n",
       "    </tr>\n",
       "    <tr>\n",
       "      <th>3</th>\n",
       "      <td>True</td>\n",
       "      <td>False</td>\n",
       "      <td>True</td>\n",
       "      <td>True</td>\n",
       "      <td>True</td>\n",
       "      <td>0.0</td>\n",
       "    </tr>\n",
       "    <tr>\n",
       "      <th>4</th>\n",
       "      <td>True</td>\n",
       "      <td>False</td>\n",
       "      <td>True</td>\n",
       "      <td>True</td>\n",
       "      <td>True</td>\n",
       "      <td>0.0</td>\n",
       "    </tr>\n",
       "    <tr>\n",
       "      <th>5</th>\n",
       "      <td>True</td>\n",
       "      <td>True</td>\n",
       "      <td>False</td>\n",
       "      <td>True</td>\n",
       "      <td>True</td>\n",
       "      <td>0.0</td>\n",
       "    </tr>\n",
       "    <tr>\n",
       "      <th>6</th>\n",
       "      <td>False</td>\n",
       "      <td>False</td>\n",
       "      <td>True</td>\n",
       "      <td>True</td>\n",
       "      <td>True</td>\n",
       "      <td>0.0</td>\n",
       "    </tr>\n",
       "    <tr>\n",
       "      <th>7</th>\n",
       "      <td>True</td>\n",
       "      <td>True</td>\n",
       "      <td>True</td>\n",
       "      <td>True</td>\n",
       "      <td>True</td>\n",
       "      <td>12.0</td>\n",
       "    </tr>\n",
       "    <tr>\n",
       "      <th>8</th>\n",
       "      <td>True</td>\n",
       "      <td>True</td>\n",
       "      <td>True</td>\n",
       "      <td>True</td>\n",
       "      <td>True</td>\n",
       "      <td>4.0</td>\n",
       "    </tr>\n",
       "    <tr>\n",
       "      <th>9</th>\n",
       "      <td>True</td>\n",
       "      <td>False</td>\n",
       "      <td>False</td>\n",
       "      <td>False</td>\n",
       "      <td>False</td>\n",
       "      <td>0.0</td>\n",
       "    </tr>\n",
       "  </tbody>\n",
       "</table>\n",
       "</div>"
      ],
      "text/plain": [
       "  maternal_health_delivery_services skilled_birth_attendant  \\\n",
       "0                              True                   False   \n",
       "1                              True                    True   \n",
       "2                              True                    True   \n",
       "3                              True                   False   \n",
       "4                              True                   False   \n",
       "5                              True                    True   \n",
       "6                             False                   False   \n",
       "7                              True                    True   \n",
       "8                              True                    True   \n",
       "9                              True                   False   \n",
       "\n",
       "  child_health_measles_immun_calc antenatal_care_yn family_planning_yn  \\\n",
       "0                            True              True              False   \n",
       "1                            True              True              False   \n",
       "2                            True              True               True   \n",
       "3                            True              True               True   \n",
       "4                            True              True               True   \n",
       "5                           False              True               True   \n",
       "6                            True              True               True   \n",
       "7                            True              True               True   \n",
       "8                            True              True               True   \n",
       "9                           False             False              False   \n",
       "\n",
       "   num_nursemidwives_fulltime  \n",
       "0                         0.0  \n",
       "1                         1.0  \n",
       "2                        11.0  \n",
       "3                         0.0  \n",
       "4                         0.0  \n",
       "5                         0.0  \n",
       "6                         0.0  \n",
       "7                        12.0  \n",
       "8                         4.0  \n",
       "9                         0.0  "
      ]
     },
     "execution_count": 49,
     "metadata": {},
     "output_type": "execute_result"
    }
   ],
   "source": [
    "maternal = nig_nmis[['maternal_health_delivery_services','skilled_birth_attendant','child_health_measles_immun_calc','antenatal_care_yn',\n",
    "                   'family_planning_yn','num_nursemidwives_fulltime']]\n",
    "\n",
    "maternal.head(10)"
   ]
  },
  {
   "cell_type": "code",
   "execution_count": 56,
   "metadata": {},
   "outputs": [
    {
     "data": {
      "text/plain": [
       "True     0.625392\n",
       "False    0.374608\n",
       "Name: maternal_health_delivery_services, dtype: float64"
      ]
     },
     "execution_count": 56,
     "metadata": {},
     "output_type": "execute_result"
    }
   ],
   "source": [
    "maternal['maternal_health_delivery_services'].value_counts(normalize=True)"
   ]
  },
  {
   "cell_type": "code",
   "execution_count": 59,
   "metadata": {},
   "outputs": [
    {
     "data": {
      "text/plain": [
       "True     0.551114\n",
       "False    0.448886\n",
       "Name: skilled_birth_attendant, dtype: float64"
      ]
     },
     "execution_count": 59,
     "metadata": {},
     "output_type": "execute_result"
    }
   ],
   "source": [
    "maternal_only = maternal[maternal['maternal_health_delivery_services'] == True]\n",
    "\n",
    "maternal_only['skilled_birth_attendant'].value_counts(normalize=True)"
   ]
  },
  {
   "cell_type": "code",
   "execution_count": 62,
   "metadata": {},
   "outputs": [
    {
     "data": {
      "text/plain": [
       "True     0.730171\n",
       "False    0.269829\n",
       "Name: antenatal_care_yn, dtype: float64"
      ]
     },
     "execution_count": 62,
     "metadata": {},
     "output_type": "execute_result"
    }
   ],
   "source": [
    "maternal['antenatal_care_yn'].value_counts(normalize=True)"
   ]
  },
  {
   "cell_type": "code",
   "execution_count": 68,
   "metadata": {},
   "outputs": [
    {
     "data": {
      "text/plain": [
       "True     0.693267\n",
       "False    0.306733\n",
       "Name: antenatal_care_yn, dtype: float64"
      ]
     },
     "execution_count": 68,
     "metadata": {},
     "output_type": "execute_result"
    }
   ],
   "source": [
    "public['antenatal_care_yn'].value_counts(normalize=True)"
   ]
  },
  {
   "cell_type": "code",
   "execution_count": 77,
   "metadata": {},
   "outputs": [
    {
     "data": {
      "text/plain": [
       "True     0.732582\n",
       "False    0.267418\n",
       "Name: child_health_measles_immun_calc, dtype: float64"
      ]
     },
     "execution_count": 77,
     "metadata": {},
     "output_type": "execute_result"
    }
   ],
   "source": [
    "maternal['child_health_measles_immun_calc'].value_counts(normalize=True)"
   ]
  },
  {
   "cell_type": "code",
   "execution_count": 76,
   "metadata": {},
   "outputs": [
    {
     "data": {
      "text/plain": [
       "<matplotlib.axes._subplots.AxesSubplot at 0x12e7ac780>"
      ]
     },
     "execution_count": 76,
     "metadata": {},
     "output_type": "execute_result"
    },
    {
     "data": {
      "image/png": "[encoded data removed]",
      "text/plain": [
       "<Figure size 720x720 with 1 Axes>"
      ]
     },
     "metadata": {},
     "output_type": "display_data"
    }
   ],
   "source": [
    "maternal['child_health_measles_immun_calc'].value_counts(normalize=True).plot(kind='pie',figsize=(10,10))"
   ]
  },
  {
   "cell_type": "markdown",
   "metadata": {},
   "source": [
    "# Observations from Maternal and Early Childhood Care\n",
    "\n",
    "**1.** Of the total 34139 health Centers in Nigeria, only 20920 (about 62.5% of the total) offer maternal health delivery services. \n",
    "\n",
    "**2.** Of the 62.5% health Centers having Maternal Health delivery services, only 55% of this have Skilled Birth Attendant.\n",
    "\n",
    "**3.** 73% of the Nigerian Health centers have antenantal Care. It is to be noted that 69% of Public health centers have antenantal care.\n",
    "\n",
    "**4.** 73% of the Nigerian Health centers have Child Health Measles Immunization."
   ]
  },
  {
   "cell_type": "markdown",
   "metadata": {},
   "source": [
    "# Malaria Treatment"
   ]
  },
  {
   "cell_type": "code",
   "execution_count": 20,
   "metadata": {},
   "outputs": [
    {
     "data": {
      "text/plain": [
       "True     0.780948\n",
       "False    0.219052\n",
       "Name: malaria_treatment_artemisinin, dtype: float64"
      ]
     },
     "execution_count": 20,
     "metadata": {},
     "output_type": "execute_result"
    }
   ],
   "source": [
    "nig_nmis['malaria_treatment_artemisinin'].value_counts(normalize=True)"
   ]
  },
  {
   "cell_type": "markdown",
   "metadata": {},
   "source": [
    "# Observations from Malaria Treatment\n",
    "\n",
    "**1.** About 22% of our health Centers do not give Malaria Treatment even though the disease is a risk for 97% of Nigeria's population."
   ]
  },
  {
   "cell_type": "code",
   "execution_count": null,
   "metadata": {},
   "outputs": [],
   "source": []
  }
 ],
 "metadata": {
  "kernelspec": {
   "display_name": "Python 3",
   "language": "python",
   "name": "python3"
  },
  "language_info": {
   "codemirror_mode": {
    "name": "ipython",
    "version": 3
   },
   "file_extension": ".py",
   "mimetype": "text/x-python",
   "name": "python",
   "nbconvert_exporter": "python",
   "pygments_lexer": "ipython3",
   "version": "3.7.3"
  }
 },
 "nbformat": 4,
 "nbformat_minor": 2
}
